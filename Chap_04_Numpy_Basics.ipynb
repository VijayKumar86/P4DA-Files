{
 "cells": [
  {
   "cell_type": "code",
   "execution_count": 3,
   "metadata": {},
   "outputs": [],
   "source": [
    "import numpy as np"
   ]
  },
  {
   "cell_type": "code",
   "execution_count": 4,
   "metadata": {},
   "outputs": [],
   "source": [
    "my_arr = np.arange(1000000)"
   ]
  },
  {
   "cell_type": "code",
   "execution_count": 5,
   "metadata": {},
   "outputs": [],
   "source": [
    "my_list = list(range(1000000))"
   ]
  },
  {
   "cell_type": "code",
   "execution_count": 6,
   "metadata": {},
   "outputs": [
    {
     "name": "stdout",
     "output_type": "stream",
     "text": [
      "Wall time: 21.9 ms\n"
     ]
    }
   ],
   "source": [
    "%time for i in range(10): my_arr2 = my_arr * 2\n",
    "# Array's in Python are far more efficient in storing data than List"
   ]
  },
  {
   "cell_type": "code",
   "execution_count": 7,
   "metadata": {},
   "outputs": [
    {
     "name": "stdout",
     "output_type": "stream",
     "text": [
      "Wall time: 2.05 s\n"
     ]
    }
   ],
   "source": [
    "%time for i in range(10): my_list2 = [x*2 for x in my_list]\n",
    "# List's in Python are far LESS efficient in storing data than Array's"
   ]
  },
  {
   "cell_type": "code",
   "execution_count": 8,
   "metadata": {},
   "outputs": [],
   "source": [
    "#4.1 The NumPy ndarray: A Multidimensional Array Object\n",
    "data = np.random.randn(2,3)"
   ]
  },
  {
   "cell_type": "code",
   "execution_count": 9,
   "metadata": {},
   "outputs": [
    {
     "data": {
      "text/plain": [
       "(2, 3)"
      ]
     },
     "execution_count": 9,
     "metadata": {},
     "output_type": "execute_result"
    }
   ],
   "source": [
    "#This gives the number of Rows and Columns in an array object. In this example, there are 2 Rows and 3 Cols\n",
    "data.shape"
   ]
  },
  {
   "cell_type": "code",
   "execution_count": 10,
   "metadata": {},
   "outputs": [
    {
     "data": {
      "text/plain": [
       "dtype('float64')"
      ]
     },
     "execution_count": 10,
     "metadata": {},
     "output_type": "execute_result"
    }
   ],
   "source": [
    "#Data type of the Array\n",
    "data.dtype"
   ]
  },
  {
   "cell_type": "code",
   "execution_count": 11,
   "metadata": {},
   "outputs": [
    {
     "data": {
      "text/plain": [
       "array([[-0.25667072,  1.31988706,  1.90892289],\n",
       "       [-0.36349717, -1.6317948 , -0.04905805]])"
      ]
     },
     "execution_count": 11,
     "metadata": {},
     "output_type": "execute_result"
    }
   ],
   "source": [
    "data"
   ]
  },
  {
   "cell_type": "code",
   "execution_count": 12,
   "metadata": {},
   "outputs": [
    {
     "data": {
      "text/plain": [
       "array([[ -2.56670725,  13.19887065,  19.08922892],\n",
       "       [ -3.63497171, -16.31794801,  -0.49058051]])"
      ]
     },
     "execution_count": 12,
     "metadata": {},
     "output_type": "execute_result"
    }
   ],
   "source": [
    "#Array operation has a similar syntax as scalar operations\n",
    "#Array multiplication\n",
    "data *10"
   ]
  },
  {
   "cell_type": "code",
   "execution_count": 13,
   "metadata": {
    "scrolled": true
   },
   "outputs": [
    {
     "data": {
      "text/plain": [
       "array([[-0.51334145,  2.63977413,  3.81784578],\n",
       "       [-0.72699434, -3.2635896 , -0.0981161 ]])"
      ]
     },
     "execution_count": 13,
     "metadata": {},
     "output_type": "execute_result"
    }
   ],
   "source": [
    "#Array addition\n",
    "data + data"
   ]
  },
  {
   "cell_type": "code",
   "execution_count": 14,
   "metadata": {},
   "outputs": [],
   "source": [
    "#Creating a 1 Dimensional Arrays\n",
    "data1 = [1,2,3,4,5,6]"
   ]
  },
  {
   "cell_type": "code",
   "execution_count": 15,
   "metadata": {},
   "outputs": [],
   "source": [
    "arry1 = np.array(data1) #this creates a 1 dimensional array"
   ]
  },
  {
   "cell_type": "code",
   "execution_count": 16,
   "metadata": {},
   "outputs": [
    {
     "data": {
      "text/plain": [
       "(6,)"
      ]
     },
     "execution_count": 16,
     "metadata": {},
     "output_type": "execute_result"
    }
   ],
   "source": [
    "arry1.shape #This gives the # Rows and # Cols in an Array. Here 6 is the total # of records in the 1D array"
   ]
  },
  {
   "cell_type": "code",
   "execution_count": 17,
   "metadata": {
    "scrolled": true
   },
   "outputs": [
    {
     "data": {
      "text/plain": [
       "1"
      ]
     },
     "execution_count": 17,
     "metadata": {},
     "output_type": "execute_result"
    }
   ],
   "source": [
    "arry1.ndim #This confirms the Dimension of an array"
   ]
  },
  {
   "cell_type": "code",
   "execution_count": 18,
   "metadata": {},
   "outputs": [],
   "source": [
    "#Creating a 2 Dimensional Array\n",
    "data2 = [[1,2,3,4],[5,6,7,8]]"
   ]
  },
  {
   "cell_type": "code",
   "execution_count": 19,
   "metadata": {},
   "outputs": [],
   "source": [
    "arry2 = np.array(data2)"
   ]
  },
  {
   "cell_type": "code",
   "execution_count": 20,
   "metadata": {
    "scrolled": true
   },
   "outputs": [
    {
     "data": {
      "text/plain": [
       "(2, 4)"
      ]
     },
     "execution_count": 20,
     "metadata": {},
     "output_type": "execute_result"
    }
   ],
   "source": [
    "arry2.shape #there are 2 rows and three columns in this array"
   ]
  },
  {
   "cell_type": "code",
   "execution_count": 21,
   "metadata": {},
   "outputs": [
    {
     "data": {
      "text/plain": [
       "2"
      ]
     },
     "execution_count": 21,
     "metadata": {},
     "output_type": "execute_result"
    }
   ],
   "source": [
    "arry2.ndim #The output is an 1 Dimensional Array"
   ]
  },
  {
   "cell_type": "code",
   "execution_count": 22,
   "metadata": {},
   "outputs": [
    {
     "data": {
      "text/plain": [
       "dtype('int32')"
      ]
     },
     "execution_count": 22,
     "metadata": {},
     "output_type": "execute_result"
    }
   ],
   "source": [
    "arry2.dtype #This gives the data type of the Array"
   ]
  },
  {
   "cell_type": "code",
   "execution_count": 25,
   "metadata": {},
   "outputs": [
    {
     "data": {
      "text/plain": [
       "array([0., 0., 0., 0., 0., 0., 0., 0., 0., 0.])"
      ]
     },
     "execution_count": 25,
     "metadata": {},
     "output_type": "execute_result"
    }
   ],
   "source": [
    "#Numpy Zeros and Ones\n",
    "np.zeros(10)"
   ]
  },
  {
   "cell_type": "code",
   "execution_count": 26,
   "metadata": {},
   "outputs": [
    {
     "data": {
      "text/plain": [
       "numpy.ndarray"
      ]
     },
     "execution_count": 26,
     "metadata": {},
     "output_type": "execute_result"
    }
   ],
   "source": [
    "type(np.zeros(10))"
   ]
  },
  {
   "cell_type": "code",
   "execution_count": 30,
   "metadata": {},
   "outputs": [
    {
     "data": {
      "text/plain": [
       "array([1., 1., 1., 1., 1., 1., 1., 1., 1., 1.])"
      ]
     },
     "execution_count": 30,
     "metadata": {},
     "output_type": "execute_result"
    }
   ],
   "source": [
    "np.ones(10)"
   ]
  },
  {
   "cell_type": "code",
   "execution_count": 32,
   "metadata": {},
   "outputs": [
    {
     "data": {
      "text/plain": [
       "array([[1., 1.],\n",
       "       [1., 1.],\n",
       "       [1., 1.],\n",
       "       [1., 1.],\n",
       "       [1., 1.],\n",
       "       [1., 1.],\n",
       "       [1., 1.],\n",
       "       [1., 1.],\n",
       "       [1., 1.],\n",
       "       [1., 1.]])"
      ]
     },
     "execution_count": 32,
     "metadata": {},
     "output_type": "execute_result"
    }
   ],
   "source": [
    "np.ones((10,2))\n",
    "#The above creates a 10 * 2 array of ones\n",
    "#Note: The shape of the array is provided with an extra parenthesis. \n",
    "#The following would result in error np.ones(10,2). The extra parenthesis is necessary. np.ones((10,2))"
   ]
  },
  {
   "cell_type": "code",
   "execution_count": 42,
   "metadata": {
    "scrolled": true
   },
   "outputs": [
    {
     "data": {
      "text/plain": [
       "array([[[0., 0., 0.],\n",
       "        [0., 0., 0.],\n",
       "        [0., 0., 0.],\n",
       "        [0., 0., 0.],\n",
       "        [0., 0., 0.],\n",
       "        [0., 0., 0.],\n",
       "        [0., 0., 0.],\n",
       "        [0., 0., 0.]],\n",
       "\n",
       "       [[0., 0., 0.],\n",
       "        [0., 0., 0.],\n",
       "        [0., 0., 0.],\n",
       "        [0., 0., 0.],\n",
       "        [0., 0., 0.],\n",
       "        [0., 0., 0.],\n",
       "        [0., 0., 0.],\n",
       "        [0., 0., 0.]]])"
      ]
     },
     "execution_count": 42,
     "metadata": {},
     "output_type": "execute_result"
    }
   ],
   "source": [
    "np.empty((2,8,3),dtype = np.float64)\n",
    "#This creates an empty array of shape (2,8,3). Here dtype is an optional argument, that can be used to force data type.\n",
    "#NOTE: The empty array doesn't always create a NULL array. It just creates an array with random values[mostly close to 0]"
   ]
  },
  {
   "cell_type": "code",
   "execution_count": 44,
   "metadata": {},
   "outputs": [
    {
     "data": {
      "text/plain": [
       "array([0, 1, 2, 3, 4, 5, 6, 7, 8, 9])"
      ]
     },
     "execution_count": 44,
     "metadata": {},
     "output_type": "execute_result"
    }
   ],
   "source": [
    "#arange: This is the \"range\" equivalent for arrays. The resulting datatype is an array\n",
    "# list(range(10)) #This would create a list of values from 0 to 9\n",
    "np.arange(10)"
   ]
  },
  {
   "cell_type": "code",
   "execution_count": 98,
   "metadata": {},
   "outputs": [
    {
     "data": {
      "text/plain": [
       "array([5, 6, 7, 8, 9])"
      ]
     },
     "execution_count": 98,
     "metadata": {},
     "output_type": "execute_result"
    }
   ],
   "source": [
    "#Creating a Numpy array using arange function. The arguments for this function are Starting number, ending number+1, steps\n",
    "np.arange(5,10,1)"
   ]
  },
  {
   "cell_type": "code",
   "execution_count": 49,
   "metadata": {},
   "outputs": [
    {
     "data": {
      "text/plain": [
       "[0, 1, 2, 3, 4, 5, 6, 7, 8, 9]"
      ]
     },
     "execution_count": 49,
     "metadata": {},
     "output_type": "execute_result"
    }
   ],
   "source": [
    "x"
   ]
  },
  {
   "cell_type": "code",
   "execution_count": 53,
   "metadata": {},
   "outputs": [
    {
     "data": {
      "text/plain": [
       "array([[1, 0, 0, 0, 0, 0, 0, 0, 0, 0],\n",
       "       [0, 1, 0, 0, 0, 0, 0, 0, 0, 0],\n",
       "       [0, 0, 1, 0, 0, 0, 0, 0, 0, 0],\n",
       "       [0, 0, 0, 1, 0, 0, 0, 0, 0, 0],\n",
       "       [0, 0, 0, 0, 1, 0, 0, 0, 0, 0],\n",
       "       [0, 0, 0, 0, 0, 1, 0, 0, 0, 0],\n",
       "       [0, 0, 0, 0, 0, 0, 1, 0, 0, 0],\n",
       "       [0, 0, 0, 0, 0, 0, 0, 1, 0, 0],\n",
       "       [0, 0, 0, 0, 0, 0, 0, 0, 1, 0],\n",
       "       [0, 0, 0, 0, 0, 0, 0, 0, 0, 1]])"
      ]
     },
     "execution_count": 53,
     "metadata": {},
     "output_type": "execute_result"
    }
   ],
   "source": [
    "#Creating an identity array[1's in the diagonal and 0's in other places]. This always creates a N * N square Array\n",
    "#Method 1\n",
    "np.eye(10,dtype = np.int32)"
   ]
  },
  {
   "cell_type": "code",
   "execution_count": 57,
   "metadata": {
    "scrolled": true
   },
   "outputs": [
    {
     "data": {
      "text/plain": [
       "array([[1, 0, 0, 0, 0, 0, 0, 0, 0, 0],\n",
       "       [0, 1, 0, 0, 0, 0, 0, 0, 0, 0],\n",
       "       [0, 0, 1, 0, 0, 0, 0, 0, 0, 0],\n",
       "       [0, 0, 0, 1, 0, 0, 0, 0, 0, 0],\n",
       "       [0, 0, 0, 0, 1, 0, 0, 0, 0, 0],\n",
       "       [0, 0, 0, 0, 0, 1, 0, 0, 0, 0],\n",
       "       [0, 0, 0, 0, 0, 0, 1, 0, 0, 0],\n",
       "       [0, 0, 0, 0, 0, 0, 0, 1, 0, 0],\n",
       "       [0, 0, 0, 0, 0, 0, 0, 0, 1, 0],\n",
       "       [0, 0, 0, 0, 0, 0, 0, 0, 0, 1]])"
      ]
     },
     "execution_count": 57,
     "metadata": {},
     "output_type": "execute_result"
    }
   ],
   "source": [
    "#Creating an identity array[1's in the diagonal and 0's in other places]. This always creates a N * N square Array\n",
    "#Method 2\n",
    "iden = np.identity(10,dtype = np.int32) #Here dtype is optional. It can take np.int32 or np.float64\n",
    "iden"
   ]
  },
  {
   "cell_type": "code",
   "execution_count": 58,
   "metadata": {
    "scrolled": true
   },
   "outputs": [
    {
     "data": {
      "text/plain": [
       "array([[1, 1, 1, 1, 1, 1, 1, 1, 1, 1],\n",
       "       [1, 1, 1, 1, 1, 1, 1, 1, 1, 1],\n",
       "       [1, 1, 1, 1, 1, 1, 1, 1, 1, 1],\n",
       "       [1, 1, 1, 1, 1, 1, 1, 1, 1, 1],\n",
       "       [1, 1, 1, 1, 1, 1, 1, 1, 1, 1],\n",
       "       [1, 1, 1, 1, 1, 1, 1, 1, 1, 1],\n",
       "       [1, 1, 1, 1, 1, 1, 1, 1, 1, 1],\n",
       "       [1, 1, 1, 1, 1, 1, 1, 1, 1, 1],\n",
       "       [1, 1, 1, 1, 1, 1, 1, 1, 1, 1],\n",
       "       [1, 1, 1, 1, 1, 1, 1, 1, 1, 1]])"
      ]
     },
     "execution_count": 58,
     "metadata": {},
     "output_type": "execute_result"
    }
   ],
   "source": [
    "np.ones_like(iden) #If required to create a ones matrix in the shape of another array use ones_like"
   ]
  },
  {
   "cell_type": "code",
   "execution_count": 60,
   "metadata": {},
   "outputs": [
    {
     "data": {
      "text/plain": [
       "array([[0., 0., 0., 0., 0., 0., 0., 0., 0., 0.],\n",
       "       [0., 0., 0., 0., 0., 0., 0., 0., 0., 0.],\n",
       "       [0., 0., 0., 0., 0., 0., 0., 0., 0., 0.],\n",
       "       [0., 0., 0., 0., 0., 0., 0., 0., 0., 0.],\n",
       "       [0., 0., 0., 0., 0., 0., 0., 0., 0., 0.],\n",
       "       [0., 0., 0., 0., 0., 0., 0., 0., 0., 0.],\n",
       "       [0., 0., 0., 0., 0., 0., 0., 0., 0., 0.],\n",
       "       [0., 0., 0., 0., 0., 0., 0., 0., 0., 0.],\n",
       "       [0., 0., 0., 0., 0., 0., 0., 0., 0., 0.],\n",
       "       [0., 0., 0., 0., 0., 0., 0., 0., 0., 0.]])"
      ]
     },
     "execution_count": 60,
     "metadata": {},
     "output_type": "execute_result"
    }
   ],
   "source": [
    "np.zeros_like(iden,dtype = np.float64) #If required to create a zeros matrix in the shape of another array use zeros_like"
   ]
  },
  {
   "cell_type": "code",
   "execution_count": 62,
   "metadata": {},
   "outputs": [
    {
     "data": {
      "text/plain": [
       "array([0, 1, 2, 3, 4, 5, 6, 7, 8, 9])"
      ]
     },
     "execution_count": 62,
     "metadata": {},
     "output_type": "execute_result"
    }
   ],
   "source": [
    "np.asarray(list(range(10))) #This creates a non array like input into an ndarray"
   ]
  },
  {
   "cell_type": "code",
   "execution_count": 67,
   "metadata": {},
   "outputs": [
    {
     "data": {
      "text/plain": [
       "dtype('float64')"
      ]
     },
     "execution_count": 67,
     "metadata": {},
     "output_type": "execute_result"
    }
   ],
   "source": [
    "np.asarray(list(range(10)),dtype = np.float64) #Externally forcing the data type to float using the dtype argument"
   ]
  },
  {
   "cell_type": "code",
   "execution_count": 70,
   "metadata": {},
   "outputs": [
    {
     "data": {
      "text/plain": [
       "(4, 3)"
      ]
     },
     "execution_count": 70,
     "metadata": {},
     "output_type": "execute_result"
    }
   ],
   "source": [
    "np.asarray([[1,2,3],[4,5,6],[7,8,9],[10,11,12]]).shape #Using a list of list as input and checking the shape using shape object"
   ]
  },
  {
   "cell_type": "code",
   "execution_count": 74,
   "metadata": {},
   "outputs": [
    {
     "data": {
      "text/plain": [
       "3"
      ]
     },
     "execution_count": 74,
     "metadata": {},
     "output_type": "execute_result"
    }
   ],
   "source": [
    "np.asarray([((1,2,3),(4,5,6),(7,8,9)),((1,2,3),(4,5,6),(7,8,9))]).ndim #Using a list of tuple of tuple & checking dimension"
   ]
  },
  {
   "cell_type": "code",
   "execution_count": 83,
   "metadata": {},
   "outputs": [
    {
     "name": "stdout",
     "output_type": "stream",
     "text": [
      "Printing the Integer Array : [ 1  2  3  4  5  6  7  8  9 10]\n",
      "Printing the Floating Array : [ 1.  2.  3.  4.  5.  6.  7.  8.  9. 10.]\n"
     ]
    }
   ],
   "source": [
    "#Data Types in NumPy\n",
    "\n",
    "#Converting an array of one data type to another data type\n",
    "data1 = list(range(1,11))\n",
    "arr1 = np.array(data1)\n",
    "print(\"Printing the Integer Array :\",arr1)\n",
    "\n",
    "float_arr1 = arr1.astype(np.float64)\n",
    "print(\"Printing the Floating Array :\",float_arr1)"
   ]
  },
  {
   "cell_type": "code",
   "execution_count": 91,
   "metadata": {},
   "outputs": [
    {
     "name": "stdout",
     "output_type": "stream",
     "text": [
      "Printing the String Array : ['1.2' '1.5' '1.9' '2.4']\n",
      "\n",
      "\n",
      "Printing the Float array converted using data type of another array : [1.2 1.5 1.9 2.4]\n",
      "Printing an Int array converted using data type of another array : [1 1 1 2]\n"
     ]
    }
   ],
   "source": [
    "#Using Data type attributes of another array\n",
    "data2 = ['1.2','1.5','1.9','2.4']\n",
    "string_arr1 = np.array(data2)\n",
    "print(\"Printing the String Array :\",string_arr1)\n",
    "print(\"\\n\")\n",
    "\n",
    "#NOTE: A String array[looking like Floating numbers] can be directly converted to a Floating Array\n",
    "#but cannot be directly coverted to Integer\n",
    "float_arr2 = string_arr1.astype(float_arr1.dtype)\n",
    "print(\"Printing the Float array converted using data type of another array :\",float_arr2)\n",
    "print(\"\\n\")\n",
    "\n",
    "int_arr2 = float_arr2.astype(arr1.dtype)\n",
    "print(\"Printing an Int array converted using data type of another array :\",int_arr2)\n",
    "print(\"\\n\")"
   ]
  },
  {
   "cell_type": "code",
   "execution_count": 96,
   "metadata": {},
   "outputs": [
    {
     "data": {
      "text/plain": [
       "dtype('int32')"
      ]
     },
     "execution_count": 96,
     "metadata": {},
     "output_type": "execute_result"
    }
   ],
   "source": [
    "#Just rechecking the shape of an array created using arange function. This is already discussed earlier\n",
    "np.arange(10).shape"
   ]
  },
  {
   "cell_type": "code",
   "execution_count": 114,
   "metadata": {},
   "outputs": [
    {
     "data": {
      "text/plain": [
       "array([[1, 2, 3],\n",
       "       [4, 5, 6]])"
      ]
     },
     "execution_count": 114,
     "metadata": {},
     "output_type": "execute_result"
    }
   ],
   "source": [
    "#Operations between Arrays and Scalars\n",
    "#Vectorization = Making an element wise operation without the need for a \"for Loop\"\n",
    "# Array operations are vectorised by default and wouldn't need any for loop and are very fast in executing\n",
    "arr3 = np.array([[1,2,3],[4 ,5,  6]])\n",
    "arr3"
   ]
  },
  {
   "cell_type": "code",
   "execution_count": 106,
   "metadata": {},
   "outputs": [
    {
     "data": {
      "text/plain": [
       "array([[ 1,  4,  9],\n",
       "       [16, 25, 36]])"
      ]
     },
     "execution_count": 106,
     "metadata": {},
     "output_type": "execute_result"
    }
   ],
   "source": [
    "#Product of an array with itself results in the square of the array\n",
    "# An operation between two arrays of similar size or between an Array & a scalar are performed element wise[AKA vectorised]\n",
    "arr3 * arr3"
   ]
  },
  {
   "cell_type": "code",
   "execution_count": 107,
   "metadata": {},
   "outputs": [
    {
     "data": {
      "text/plain": [
       "array([[ 2,  4,  6],\n",
       "       [ 8, 10, 12]])"
      ]
     },
     "execution_count": 107,
     "metadata": {},
     "output_type": "execute_result"
    }
   ],
   "source": [
    "#Product of an array with scalar results in the product of the array\n",
    "# An operation between two arrays of similar size or between an Array & a scalar are performed element wise[AKA vectorised]\n",
    "arr3 * 2"
   ]
  },
  {
   "cell_type": "code",
   "execution_count": 102,
   "metadata": {},
   "outputs": [
    {
     "data": {
      "text/plain": [
       "array([[    1,     4,    27],\n",
       "       [  256,  3125, 46656]], dtype=int32)"
      ]
     },
     "execution_count": 102,
     "metadata": {},
     "output_type": "execute_result"
    }
   ],
   "source": [
    "#Array raised to its own power would result in n**n for each element in the array. [again vectorised ] \n",
    "#e.g., In the above case the result would be - 1**1, 2**2, 3**3, 4**4, 5**5 and 6**6\n",
    "arr3 ** arr3"
   ]
  },
  {
   "cell_type": "code",
   "execution_count": 115,
   "metadata": {},
   "outputs": [],
   "source": [
    "#Operation between two differently sized arrays is called broadcasting. \n",
    "#Broadcasting would be discussed in Chap 12"
   ]
  },
  {
   "cell_type": "code",
   "execution_count": 128,
   "metadata": {},
   "outputs": [
    {
     "data": {
      "text/plain": [
       "array([0, 1, 2, 3, 4, 5, 6, 7, 8, 9])"
      ]
     },
     "execution_count": 128,
     "metadata": {},
     "output_type": "execute_result"
    }
   ],
   "source": [
    "arr4 = np.arange(10)\n",
    "arr4"
   ]
  },
  {
   "cell_type": "code",
   "execution_count": 154,
   "metadata": {},
   "outputs": [
    {
     "data": {
      "text/plain": [
       "array([64, 64, 64])"
      ]
     },
     "execution_count": 154,
     "metadata": {},
     "output_type": "execute_result"
    }
   ],
   "source": [
    "arr4_slice = arr4[4:7]\n",
    "arr4_slice"
   ]
  },
  {
   "cell_type": "code",
   "execution_count": 155,
   "metadata": {},
   "outputs": [
    {
     "name": "stdout",
     "output_type": "stream",
     "text": [
      "Before making a change to an array slice, the original array looked like this [ 0  1  2  3 64 64 64  7  8  9] .\n",
      "\n",
      "The number of dimension of the sliced 3D array is  1\n",
      "After making a change to an array slice, the original array looks like this [ 0  1  2  3 64 64 64  7  8  9]\n"
     ]
    }
   ],
   "source": [
    "#-------------------------\n",
    "#Array Slices are Views to the original Array. Any change to an Array slice would impact the original Array.\n",
    "#-------------------------\n",
    "\n",
    "#Updating an array slice here and this would result in the original array getting impacted\n",
    "\n",
    "print(\"Before making a change to an array slice, the original array looked like this\",arr4,\".\\n\")\n",
    "\n",
    "arr4_slice[:] = 64\n",
    "print(\"The number of dimension of the sliced 3D array is \",arr4_slice.ndim)\n",
    "print(\"After making a change to an array slice, the original array looks like this\",arr4)\n"
   ]
  },
  {
   "cell_type": "code",
   "execution_count": 137,
   "metadata": {},
   "outputs": [
    {
     "name": "stdout",
     "output_type": "stream",
     "text": [
      "Before making a change to a copied array slice, the original array looked like this ---> [ 0  1  2  3 64 64 64  7  8  9]\n",
      "Before making a change to a copied array slice, the copied array_slice looked like this ---> [64 64 64] \n",
      "\n",
      "After making a change to a copied array, the original array looks like this ---> [ 0  1  2  3 64 64 64  7  8  9]\n",
      "After making a change to a copied array, the copied array_slice looked like this ---> [128 128 128] \n",
      "\n"
     ]
    }
   ],
   "source": [
    "# IF you want to impact only the array and NOT the original array, then you may need to explicity do a copy\n",
    "arr4_slice_copy = arr4[4:7].copy()\n",
    "arr4_slice_copy\n",
    "\n",
    "# Now if we make any chnage to the slice, it would only impact the slice and NOT the original array\n",
    "print(\"Before making a change to a copied array slice, the original array looked like this --->\",arr4)\n",
    "print(\"Before making a change to a copied array slice, the copied array_slice looked like this --->\",arr4_slice_copy,\"\\n\")\n",
    "\n",
    "#Chnaging the values of arr4_slice_copy to 128\n",
    "#Note: The syntax for changing all the elements in one go is to use array_name[:]\n",
    "arr4_slice_copy[:] = 128\n",
    "\n",
    "print(\"After making a change to a copied array, the original array looks like this --->\",arr4)\n",
    "print(\"After making a change to a copied array, the copied array_slice looked like this --->\",arr4_slice_copy,\"\\n\")"
   ]
  },
  {
   "cell_type": "code",
   "execution_count": 160,
   "metadata": {
    "scrolled": true
   },
   "outputs": [
    {
     "name": "stdout",
     "output_type": "stream",
     "text": [
      "The sliced 2D array before edit is  [1 2 3]\n",
      "The number of dimension of the sliced 2D array is  1\n",
      "The original 2D array before edit is  [[1 2 3]\n",
      " [4 5 6]] \n",
      "\n",
      "Trying to print the value at the 0th index of a 2D array [1 2 3]\n",
      "Trying to print the value at 2nd position of the 0th index 3 \n",
      "\n",
      "The sliced 2D array after edit is  [12 12 12]\n",
      "The original 2D array after edit is  [[12 12 12]\n",
      " [ 4  5  6]] \n",
      "\n",
      "The sliced 3D array before edit is  [[1 2 3]\n",
      " [4 5 6]]\n",
      "The number of dimension of the sliced 3D array is  2\n",
      "The original 3D array before edit is  [[[ 1  2  3]\n",
      "  [ 4  5  6]]\n",
      "\n",
      " [[ 7  8  9]\n",
      "  [10 11 12]]] \n",
      "\n",
      "The sliced 3D array after edit is  [[12 12 12]\n",
      " [12 12 12]]\n",
      "The original 3D array after edit is  [[[12 12 12]\n",
      "  [12 12 12]]\n",
      "\n",
      " [[ 7  8  9]\n",
      "  [10 11 12]]] \n",
      "\n"
     ]
    }
   ],
   "source": [
    "#Indexing ans Slicing for Multi Dimensional Arrays\n",
    "#Note: The overall logic would still remain the same for 1D or nD arrays. \n",
    "\n",
    "#Creating a 2D array arr2d\n",
    "arr2d = np.array([[1,2,3],[4,5,6]])\n",
    "\n",
    "#Slicing the 2D array in a var\n",
    "#Note: We here slice the 2D array using the index number 0. This would result in a 1D array [1,2,3]\n",
    "arr2d_slice = arr2d[0]\n",
    "print(\"The sliced 2D array before edit is \",arr2d_slice)\n",
    "print(\"The number of dimension of the sliced 2D array is \",arr2d_slice.ndim)\n",
    "print(\"The original 2D array before edit is \",arr2d,\"\\n\")\n",
    "\n",
    "\n",
    "#Accessing the values through indexing\n",
    "print(\"Trying to print the value at the 0th index of a 2D array\",arr2d[0])\n",
    "print(\"Trying to print the value at 2nd position of the 0th index\",arr2d[0,2],\"\\n\")\n",
    "\n",
    "#Changing the values in the sliced 2D array.\n",
    "#Note: Since we didn't copy explicitly, any change to slice would change the original array\n",
    "arr2d_slice[:] = 12\n",
    "print(\"The sliced 2D array after edit is \",arr2d_slice)\n",
    "print(\"The original 2D array after edit is \",arr2d,\"\\n\")\n",
    "\n",
    "#Creating a 3D array arr3d\n",
    "arr3d = np.array([[[1,2,3],[4,5,6]],[[7,8,9],[10,11,12]]])\n",
    "\n",
    "#slicing the 3D array in a var\n",
    "#Note: We here slice the 3D array using the index number 0. This would result in a 2D array [[1,2,3],[4,5,6]]\n",
    "arr3d_slice = arr3d[0]\n",
    "print(\"The sliced 3D array before edit is \",arr3d_slice)\n",
    "print(\"The number of dimension of the sliced 3D array is \",arr3d_slice.ndim)\n",
    "print(\"The original 3D array before edit is \",arr3d,\"\\n\")\n",
    "\n",
    "#Chnaging the values in the sliced 3D array\n",
    "arr3d_slice[:] = 12 #This would replace all the elements of the sliced array with 12\n",
    "\n",
    "print(\"The sliced 3D array after edit is \",arr3d_slice)\n",
    "print(\"The original 3D array after edit is \",arr3d,\"\\n\")"
   ]
  },
  {
   "cell_type": "code",
   "execution_count": 187,
   "metadata": {},
   "outputs": [
    {
     "name": "stdout",
     "output_type": "stream",
     "text": [
      "The dimensions of the slice is 2\n",
      "The shape of the slice is (2, 2)\n",
      "The actual slice of the array is [[4 5]\n",
      " [7 8]]\n"
     ]
    }
   ],
   "source": [
    "#Passing multiple indexes using the : command\n",
    "#The : would be used in the similar manner python would work in other functions\n",
    "\n",
    "#Creating a 2D array\n",
    "arr2d = np.array([[1,2,3],[4,5,6],[7,8,9]])\n",
    "\n",
    "#Indexing using : - Here we are slicing the nested list at 1st and afterwards [1:]. Then within the sliced list, we are slicing till 2nd [excluding 2nd]\n",
    "x = arr2d[1:, :2]\n",
    "print(\"The dimensions of the slice is\",x.ndim)\n",
    "print(\"The shape of the slice is\",x.shape)\n",
    "print(\"The actual slice of the array is\",x)"
   ]
  },
  {
   "cell_type": "code",
   "execution_count": 255,
   "metadata": {},
   "outputs": [
    {
     "name": "stdout",
     "output_type": "stream",
     "text": [
      "[[0.86052619 0.07057194 0.6769029  0.18824804]\n",
      " [0.90012681 0.67016025 0.26196561 0.8834926 ]\n",
      " [0.461467   0.22949371 0.48404874 0.09131839]\n",
      " [0.22086458 0.95615087 0.84535221 0.35774502]\n",
      " [0.80682077 0.93995847 0.7901409  0.61762428]\n",
      " [0.23322015 0.19660524 0.92370201 0.84235079]\n",
      " [0.51124238 0.05645008 0.36699822 0.94072171]] \n",
      "\n",
      "[ True False False  True False False False] \n",
      "\n",
      "1 - Dimension(s) of the boolean sliced array\n",
      "\n",
      "(2,) - Shape of the boolean sliced array\n",
      "\n",
      "[0.18824804 0.35774502] - boolean sliced array\n",
      "\n"
     ]
    }
   ],
   "source": [
    "#Feb 03 2023\n",
    "#Boolean Indexing\n",
    "\n",
    "#Creating a numpy array of names\n",
    "names = np.array(['Bob','Joe','Will','Bob','Will','Joe','Joe'])\n",
    "\n",
    "#Creating a random normally distributed array\n",
    "data = np.random.rand(7,4)\n",
    "print(data,\"\\n\")\n",
    "\n",
    "\n",
    "#Converting the names array into a Boolean array using the comparison operator ==\n",
    "#Note: Just like arithmetic operations, this also results in vectorisation [operation is performed on every element]\n",
    "names == 'Bob'\n",
    "print(names == 'Bob',\"\\n\")\n",
    "\n",
    "#Simple slicing the data array using Boolean array\n",
    "#Note: The names array has 7 elements, so the data array has to have 7 rows. \n",
    "#If this conition is not met, then it would result in error\n",
    "data[names == 'Bob']\n",
    "\n",
    "\n",
    "#slicing using indexing\n",
    "print(data[names == 'Bob',3].ndim,\"- Dimension(s) of the boolean sliced array\\n\")\n",
    "print(data[names == 'Bob',3].shape,\"- Shape of the boolean sliced array\\n\")\n",
    "print(data[names == 'Bob',3],\"- boolean sliced array\\n\")"
   ]
  },
  {
   "cell_type": "code",
   "execution_count": 256,
   "metadata": {},
   "outputs": [
    {
     "name": "stdout",
     "output_type": "stream",
     "text": [
      "(4,)\n",
      "(4,)\n",
      "(4,)\n",
      "(4,)\n",
      "(4,)\n",
      "(4,)\n",
      "(4,)\n"
     ]
    }
   ],
   "source": [
    "#Travelling thro' array using for loop would result in row wise operation\n",
    "for rows in data:\n",
    "    print(rows.shape)"
   ]
  },
  {
   "cell_type": "code",
   "execution_count": 257,
   "metadata": {
    "scrolled": true
   },
   "outputs": [
    {
     "name": "stdout",
     "output_type": "stream",
     "text": [
      "[ True  True False  True False  True  True]\n"
     ]
    },
    {
     "data": {
      "text/plain": [
       "array([[0.86052619, 0.07057194, 0.6769029 , 0.18824804],\n",
       "       [0.90012681, 0.67016025, 0.26196561, 0.8834926 ],\n",
       "       [0.22086458, 0.95615087, 0.84535221, 0.35774502],\n",
       "       [0.23322015, 0.19660524, 0.92370201, 0.84235079],\n",
       "       [0.51124238, 0.05645008, 0.36699822, 0.94072171]])"
      ]
     },
     "execution_count": 257,
     "metadata": {},
     "output_type": "execute_result"
    }
   ],
   "source": [
    "#combining multiple arithmentic operations using the names array\n",
    "print((names == 'Bob' )|(names == 'Joe'))\n",
    "data[(names == 'Bob' )|(names == 'Joe')]"
   ]
  },
  {
   "cell_type": "code",
   "execution_count": 258,
   "metadata": {},
   "outputs": [
    {
     "name": "stdout",
     "output_type": "stream",
     "text": [
      "[[0.90012681 0.67016025 0.26196561 0.8834926 ]\n",
      " [0.461467   0.22949371 0.48404874 0.09131839]\n",
      " [0.80682077 0.93995847 0.7901409  0.61762428]\n",
      " [0.23322015 0.19660524 0.92370201 0.84235079]\n",
      " [0.51124238 0.05645008 0.36699822 0.94072171]] \n",
      "\n",
      "[[0.90012681 0.67016025 0.26196561 0.8834926 ]\n",
      " [0.461467   0.22949371 0.48404874 0.09131839]\n",
      " [0.80682077 0.93995847 0.7901409  0.61762428]\n",
      " [0.23322015 0.19660524 0.92370201 0.84235079]\n",
      " [0.51124238 0.05645008 0.36699822 0.94072171]] \n",
      "\n"
     ]
    }
   ],
   "source": [
    "#We can negate a condition using either != or ~\n",
    "names != 'Bob'\n",
    "~(names == 'Bob')\n",
    "print(data[~(names == 'Bob')],\"\\n\")\n",
    "\n",
    "#assigning the negated array to a variable\n",
    "#Both the print statements would result in the same output\n",
    "x = ~(names == 'Bob')\n",
    "print(data[x],\"\\n\")"
   ]
  },
  {
   "cell_type": "code",
   "execution_count": 259,
   "metadata": {},
   "outputs": [
    {
     "name": "stdout",
     "output_type": "stream",
     "text": [
      "[[False  True False  True]\n",
      " [False False  True False]\n",
      " [False  True False  True]\n",
      " [ True False False  True]\n",
      " [False False False False]\n",
      " [ True  True False False]\n",
      " [False  True  True False]]\n",
      "[[0.86052619 0.45       0.6769029  0.45      ]\n",
      " [0.90012681 0.67016025 0.45       0.8834926 ]\n",
      " [0.461467   0.45       0.48404874 0.45      ]\n",
      " [0.45       0.95615087 0.84535221 0.45      ]\n",
      " [0.80682077 0.93995847 0.7901409  0.61762428]\n",
      " [0.45       0.45       0.92370201 0.84235079]\n",
      " [0.51124238 0.45       0.45       0.94072171]]\n"
     ]
    }
   ],
   "source": [
    "#Setting values of array elements using boolean conditions\n",
    "\n",
    "#Checking for a condition is a vectorised operation as we say earlier, operation is performed on the entire array\n",
    "data < 0.45\n",
    "print(data<0.45)\n",
    "\n",
    "#subsetting is also vectorised as we saw earlier\n",
    "data[data < 0.45]\n",
    "\n",
    "#assigning values using above is also vectorised\n",
    "data[data < 0.45] = 0.45\n",
    "print(data)"
   ]
  },
  {
   "cell_type": "code",
   "execution_count": 246,
   "metadata": {},
   "outputs": [
    {
     "name": "stdout",
     "output_type": "stream",
     "text": [
      "The shape of the array is : (2, 2, 5) \n",
      "\n",
      "The dimensions of the array is : 3 \n",
      "\n"
     ]
    }
   ],
   "source": [
    "a = np.array([[[1,2,3,4,5],[6,7,8,9,10]],[[1,2,3,4,5],[6,7,8,9,10]]])\n",
    "print(\"The shape of the array is :\",a.shape,\"\\n\")\n",
    "print(\"The dimensions of the array is :\",a.ndim, \"\\n\")"
   ]
  }
 ],
 "metadata": {
  "kernelspec": {
   "display_name": "Python 3",
   "language": "python",
   "name": "python3"
  },
  "language_info": {
   "codemirror_mode": {
    "name": "ipython",
    "version": 3
   },
   "file_extension": ".py",
   "mimetype": "text/x-python",
   "name": "python",
   "nbconvert_exporter": "python",
   "pygments_lexer": "ipython3",
   "version": "3.8.3"
  }
 },
 "nbformat": 4,
 "nbformat_minor": 4
}
