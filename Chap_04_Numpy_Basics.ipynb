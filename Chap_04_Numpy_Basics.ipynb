{
 "cells": [
  {
   "cell_type": "code",
   "execution_count": 1,
   "metadata": {},
   "outputs": [],
   "source": [
    "import numpy as np"
   ]
  },
  {
   "cell_type": "code",
   "execution_count": 2,
   "metadata": {},
   "outputs": [],
   "source": [
    "my_arr = np.arange(1000000)"
   ]
  },
  {
   "cell_type": "code",
   "execution_count": 3,
   "metadata": {},
   "outputs": [],
   "source": [
    "my_list = list(range(1000000))"
   ]
  },
  {
   "cell_type": "code",
   "execution_count": 4,
   "metadata": {},
   "outputs": [
    {
     "name": "stdout",
     "output_type": "stream",
     "text": [
      "Wall time: 22 ms\n"
     ]
    }
   ],
   "source": [
    "%time for i in range(10): my_arr2 = my_arr * 2\n",
    "# Array's in Python are far more efficient in storing data than List\n",
    "#This is because array operations are Vectorised, so looping thro is not required. \n",
    "#This makes the whole array operation more fast."
   ]
  },
  {
   "cell_type": "code",
   "execution_count": 5,
   "metadata": {},
   "outputs": [
    {
     "name": "stdout",
     "output_type": "stream",
     "text": [
      "Wall time: 909 ms\n"
     ]
    }
   ],
   "source": [
    "%time for i in range(10): my_list2 = [x*2 for x in my_list]\n",
    "# List's in Python are far LESS efficient in storing data than Array's"
   ]
  },
  {
   "cell_type": "code",
   "execution_count": 6,
   "metadata": {},
   "outputs": [],
   "source": [
    "#4.1 The NumPy ndarray: A Multidimensional Array Object\n",
    "data = np.random.randn(2,3)"
   ]
  },
  {
   "cell_type": "code",
   "execution_count": 7,
   "metadata": {},
   "outputs": [
    {
     "data": {
      "text/plain": [
       "(2, 3)"
      ]
     },
     "execution_count": 7,
     "metadata": {},
     "output_type": "execute_result"
    }
   ],
   "source": [
    "#This gives the number of Rows and Columns in an array object. In this example, there are 2 Rows and 3 Cols\n",
    "data.shape"
   ]
  },
  {
   "cell_type": "code",
   "execution_count": 8,
   "metadata": {},
   "outputs": [
    {
     "data": {
      "text/plain": [
       "dtype('float64')"
      ]
     },
     "execution_count": 8,
     "metadata": {},
     "output_type": "execute_result"
    }
   ],
   "source": [
    "#Data type of the Array\n",
    "data.dtype"
   ]
  },
  {
   "cell_type": "code",
   "execution_count": 9,
   "metadata": {},
   "outputs": [
    {
     "data": {
      "text/plain": [
       "array([[-0.12277499, -0.42282563, -2.3524739 ],\n",
       "       [-0.55132606, -1.15152754,  0.44434366]])"
      ]
     },
     "execution_count": 9,
     "metadata": {},
     "output_type": "execute_result"
    }
   ],
   "source": [
    "data"
   ]
  },
  {
   "cell_type": "code",
   "execution_count": 10,
   "metadata": {},
   "outputs": [
    {
     "data": {
      "text/plain": [
       "array([[ -1.2277499 ,  -4.22825633, -23.52473895],\n",
       "       [ -5.51326063, -11.5152754 ,   4.44343662]])"
      ]
     },
     "execution_count": 10,
     "metadata": {},
     "output_type": "execute_result"
    }
   ],
   "source": [
    "#Array operation has a similar syntax as scalar operations\n",
    "#Array multiplication\n",
    "data *10"
   ]
  },
  {
   "cell_type": "code",
   "execution_count": 11,
   "metadata": {
    "scrolled": true
   },
   "outputs": [
    {
     "data": {
      "text/plain": [
       "array([[-0.24554998, -0.84565127, -4.70494779],\n",
       "       [-1.10265213, -2.30305508,  0.88868732]])"
      ]
     },
     "execution_count": 11,
     "metadata": {},
     "output_type": "execute_result"
    }
   ],
   "source": [
    "#Array addition\n",
    "data + data"
   ]
  },
  {
   "cell_type": "code",
   "execution_count": 12,
   "metadata": {},
   "outputs": [],
   "source": [
    "#Creating a 1 Dimensional Arrays\n",
    "data1 = [1,2,3,4,5,6]"
   ]
  },
  {
   "cell_type": "code",
   "execution_count": 13,
   "metadata": {},
   "outputs": [],
   "source": [
    "arry1 = np.array(data1) #this creates a 1 dimensional array"
   ]
  },
  {
   "cell_type": "code",
   "execution_count": 14,
   "metadata": {},
   "outputs": [
    {
     "data": {
      "text/plain": [
       "(6,)"
      ]
     },
     "execution_count": 14,
     "metadata": {},
     "output_type": "execute_result"
    }
   ],
   "source": [
    "arry1.shape #This gives the # Rows and # Cols in an Array. Here 6 is the total # of records in the 1D array"
   ]
  },
  {
   "cell_type": "code",
   "execution_count": 15,
   "metadata": {
    "scrolled": true
   },
   "outputs": [
    {
     "data": {
      "text/plain": [
       "1"
      ]
     },
     "execution_count": 15,
     "metadata": {},
     "output_type": "execute_result"
    }
   ],
   "source": [
    "arry1.ndim #This confirms the Dimension of an array"
   ]
  },
  {
   "cell_type": "code",
   "execution_count": 16,
   "metadata": {},
   "outputs": [],
   "source": [
    "#Creating a 2 Dimensional Array\n",
    "data2 = [[1,2,3,4],[5,6,7,8]]"
   ]
  },
  {
   "cell_type": "code",
   "execution_count": 17,
   "metadata": {},
   "outputs": [],
   "source": [
    "arry2 = np.array(data2)"
   ]
  },
  {
   "cell_type": "code",
   "execution_count": 18,
   "metadata": {
    "scrolled": true
   },
   "outputs": [
    {
     "data": {
      "text/plain": [
       "(2, 4)"
      ]
     },
     "execution_count": 18,
     "metadata": {},
     "output_type": "execute_result"
    }
   ],
   "source": [
    "arry2.shape #there are 2 rows and three columns in this array"
   ]
  },
  {
   "cell_type": "code",
   "execution_count": 19,
   "metadata": {},
   "outputs": [
    {
     "data": {
      "text/plain": [
       "2"
      ]
     },
     "execution_count": 19,
     "metadata": {},
     "output_type": "execute_result"
    }
   ],
   "source": [
    "arry2.ndim #The output is an 1 Dimensional Array"
   ]
  },
  {
   "cell_type": "code",
   "execution_count": 20,
   "metadata": {},
   "outputs": [
    {
     "data": {
      "text/plain": [
       "dtype('int32')"
      ]
     },
     "execution_count": 20,
     "metadata": {},
     "output_type": "execute_result"
    }
   ],
   "source": [
    "arry2.dtype #This gives the data type of the Array"
   ]
  },
  {
   "cell_type": "code",
   "execution_count": 21,
   "metadata": {},
   "outputs": [
    {
     "data": {
      "text/plain": [
       "array([0., 0., 0., 0., 0., 0., 0., 0., 0., 0.])"
      ]
     },
     "execution_count": 21,
     "metadata": {},
     "output_type": "execute_result"
    }
   ],
   "source": [
    "#Numpy Zeros and Ones\n",
    "np.zeros(10)"
   ]
  },
  {
   "cell_type": "code",
   "execution_count": 22,
   "metadata": {},
   "outputs": [
    {
     "data": {
      "text/plain": [
       "numpy.ndarray"
      ]
     },
     "execution_count": 22,
     "metadata": {},
     "output_type": "execute_result"
    }
   ],
   "source": [
    "type(np.zeros(10))"
   ]
  },
  {
   "cell_type": "code",
   "execution_count": 23,
   "metadata": {},
   "outputs": [
    {
     "data": {
      "text/plain": [
       "array([1., 1., 1., 1., 1., 1., 1., 1., 1., 1.])"
      ]
     },
     "execution_count": 23,
     "metadata": {},
     "output_type": "execute_result"
    }
   ],
   "source": [
    "np.ones(10)"
   ]
  },
  {
   "cell_type": "code",
   "execution_count": 24,
   "metadata": {},
   "outputs": [
    {
     "data": {
      "text/plain": [
       "array([[1., 1.],\n",
       "       [1., 1.],\n",
       "       [1., 1.],\n",
       "       [1., 1.],\n",
       "       [1., 1.],\n",
       "       [1., 1.],\n",
       "       [1., 1.],\n",
       "       [1., 1.],\n",
       "       [1., 1.],\n",
       "       [1., 1.]])"
      ]
     },
     "execution_count": 24,
     "metadata": {},
     "output_type": "execute_result"
    }
   ],
   "source": [
    "np.ones((10,2))\n",
    "#The above creates a 10 * 2 array of ones\n",
    "#Note: The shape of the array is provided with an extra parenthesis. \n",
    "#The following would result in error np.ones(10,2). The extra parenthesis is necessary. np.ones((10,2))"
   ]
  },
  {
   "cell_type": "code",
   "execution_count": 25,
   "metadata": {
    "scrolled": true
   },
   "outputs": [
    {
     "data": {
      "text/plain": [
       "array([[[1.00103256e-311, 1.00106684e-311, 1.40467151e-312],\n",
       "        [0.00000000e+000, 1.69484279e-319, 1.40467151e-312],\n",
       "        [0.00000000e+000, 1.00106544e-311, 0.00000000e+000],\n",
       "        [0.00000000e+000, 0.00000000e+000, 1.00106581e-311],\n",
       "        [2.96439388e-323, 6.95288143e-310, 2.02369289e-320],\n",
       "        [2.96439388e-323, 6.95288144e-310, 9.88131292e-324],\n",
       "        [0.00000000e+000, 0.00000000e+000, 1.35587423e-318],\n",
       "        [0.00000000e+000,             nan, 0.00000000e+000]],\n",
       "\n",
       "       [[4.67296746e-307, 1.69121096e-306, 1.15710971e-306],\n",
       "        [7.56587585e-307, 1.37961302e-306, 1.05699242e-307],\n",
       "        [8.01097889e-307, 1.78020169e-306, 7.56601165e-307],\n",
       "        [1.02359984e-306, 1.33510679e-306, 2.22522597e-306],\n",
       "        [1.33511018e-306, 6.23057689e-307, 1.86921279e-306],\n",
       "        [8.90098127e-307, 1.78020848e-306, 1.60219035e-306],\n",
       "        [1.42418172e-306, 2.04712906e-306, 7.56589622e-307],\n",
       "        [1.11258277e-307, 8.90111708e-307, 0.00000000e+000]]])"
      ]
     },
     "execution_count": 25,
     "metadata": {},
     "output_type": "execute_result"
    }
   ],
   "source": [
    "np.empty((2,8,3),dtype = np.float64)\n",
    "#This creates an empty array of shape (2,8,3). Here dtype is an optional argument, that can be used to force data type.\n",
    "#NOTE: The empty array doesn't always create a NULL array. It just creates an array with random values[mostly close to 0]"
   ]
  },
  {
   "cell_type": "code",
   "execution_count": 26,
   "metadata": {},
   "outputs": [
    {
     "data": {
      "text/plain": [
       "array([0, 1, 2, 3, 4, 5, 6, 7, 8, 9])"
      ]
     },
     "execution_count": 26,
     "metadata": {},
     "output_type": "execute_result"
    }
   ],
   "source": [
    "#arange: This is the \"range\" equivalent for arrays. The resulting datatype is an array\n",
    "# list(range(10)) #This would create a list of values from 0 to 9\n",
    "np.arange(10)"
   ]
  },
  {
   "cell_type": "code",
   "execution_count": 27,
   "metadata": {},
   "outputs": [
    {
     "data": {
      "text/plain": [
       "array([5, 6, 7, 8, 9])"
      ]
     },
     "execution_count": 27,
     "metadata": {},
     "output_type": "execute_result"
    }
   ],
   "source": [
    "#Creating a Numpy array using arange function. The arguments for this function are Starting number, ending number+1, steps\n",
    "np.arange(5,10,1)"
   ]
  },
  {
   "cell_type": "code",
   "execution_count": 28,
   "metadata": {},
   "outputs": [
    {
     "ename": "NameError",
     "evalue": "name 'x' is not defined",
     "output_type": "error",
     "traceback": [
      "\u001b[1;31m---------------------------------------------------------------------------\u001b[0m",
      "\u001b[1;31mNameError\u001b[0m                                 Traceback (most recent call last)",
      "\u001b[1;32m<ipython-input-28-6fcf9dfbd479>\u001b[0m in \u001b[0;36m<module>\u001b[1;34m\u001b[0m\n\u001b[1;32m----> 1\u001b[1;33m \u001b[0mx\u001b[0m\u001b[1;33m\u001b[0m\u001b[1;33m\u001b[0m\u001b[0m\n\u001b[0m",
      "\u001b[1;31mNameError\u001b[0m: name 'x' is not defined"
     ]
    }
   ],
   "source": [
    "x"
   ]
  },
  {
   "cell_type": "code",
   "execution_count": 29,
   "metadata": {},
   "outputs": [
    {
     "data": {
      "text/plain": [
       "array([[1, 0, 0, 0, 0, 0, 0, 0, 0, 0],\n",
       "       [0, 1, 0, 0, 0, 0, 0, 0, 0, 0],\n",
       "       [0, 0, 1, 0, 0, 0, 0, 0, 0, 0],\n",
       "       [0, 0, 0, 1, 0, 0, 0, 0, 0, 0],\n",
       "       [0, 0, 0, 0, 1, 0, 0, 0, 0, 0],\n",
       "       [0, 0, 0, 0, 0, 1, 0, 0, 0, 0],\n",
       "       [0, 0, 0, 0, 0, 0, 1, 0, 0, 0],\n",
       "       [0, 0, 0, 0, 0, 0, 0, 1, 0, 0],\n",
       "       [0, 0, 0, 0, 0, 0, 0, 0, 1, 0],\n",
       "       [0, 0, 0, 0, 0, 0, 0, 0, 0, 1]])"
      ]
     },
     "execution_count": 29,
     "metadata": {},
     "output_type": "execute_result"
    }
   ],
   "source": [
    "#Creating an identity array[1's in the diagonal and 0's in other places]. This always creates a N * N square Array\n",
    "#Method 1\n",
    "np.eye(10,dtype = np.int32)"
   ]
  },
  {
   "cell_type": "code",
   "execution_count": 30,
   "metadata": {
    "scrolled": true
   },
   "outputs": [
    {
     "data": {
      "text/plain": [
       "array([[1, 0, 0, 0, 0, 0, 0, 0, 0, 0],\n",
       "       [0, 1, 0, 0, 0, 0, 0, 0, 0, 0],\n",
       "       [0, 0, 1, 0, 0, 0, 0, 0, 0, 0],\n",
       "       [0, 0, 0, 1, 0, 0, 0, 0, 0, 0],\n",
       "       [0, 0, 0, 0, 1, 0, 0, 0, 0, 0],\n",
       "       [0, 0, 0, 0, 0, 1, 0, 0, 0, 0],\n",
       "       [0, 0, 0, 0, 0, 0, 1, 0, 0, 0],\n",
       "       [0, 0, 0, 0, 0, 0, 0, 1, 0, 0],\n",
       "       [0, 0, 0, 0, 0, 0, 0, 0, 1, 0],\n",
       "       [0, 0, 0, 0, 0, 0, 0, 0, 0, 1]])"
      ]
     },
     "execution_count": 30,
     "metadata": {},
     "output_type": "execute_result"
    }
   ],
   "source": [
    "#Creating an identity array[1's in the diagonal and 0's in other places]. This always creates a N * N square Array\n",
    "#Method 2\n",
    "iden = np.identity(10,dtype = np.int32) #Here dtype is optional. It can take np.int32 or np.float64\n",
    "iden"
   ]
  },
  {
   "cell_type": "code",
   "execution_count": 31,
   "metadata": {
    "scrolled": true
   },
   "outputs": [
    {
     "data": {
      "text/plain": [
       "array([[1, 1, 1, 1, 1, 1, 1, 1, 1, 1],\n",
       "       [1, 1, 1, 1, 1, 1, 1, 1, 1, 1],\n",
       "       [1, 1, 1, 1, 1, 1, 1, 1, 1, 1],\n",
       "       [1, 1, 1, 1, 1, 1, 1, 1, 1, 1],\n",
       "       [1, 1, 1, 1, 1, 1, 1, 1, 1, 1],\n",
       "       [1, 1, 1, 1, 1, 1, 1, 1, 1, 1],\n",
       "       [1, 1, 1, 1, 1, 1, 1, 1, 1, 1],\n",
       "       [1, 1, 1, 1, 1, 1, 1, 1, 1, 1],\n",
       "       [1, 1, 1, 1, 1, 1, 1, 1, 1, 1],\n",
       "       [1, 1, 1, 1, 1, 1, 1, 1, 1, 1]])"
      ]
     },
     "execution_count": 31,
     "metadata": {},
     "output_type": "execute_result"
    }
   ],
   "source": [
    "np.ones_like(iden) #If required to create a ones matrix in the shape of another array use ones_like"
   ]
  },
  {
   "cell_type": "code",
   "execution_count": 32,
   "metadata": {},
   "outputs": [
    {
     "data": {
      "text/plain": [
       "array([[0., 0., 0., 0., 0., 0., 0., 0., 0., 0.],\n",
       "       [0., 0., 0., 0., 0., 0., 0., 0., 0., 0.],\n",
       "       [0., 0., 0., 0., 0., 0., 0., 0., 0., 0.],\n",
       "       [0., 0., 0., 0., 0., 0., 0., 0., 0., 0.],\n",
       "       [0., 0., 0., 0., 0., 0., 0., 0., 0., 0.],\n",
       "       [0., 0., 0., 0., 0., 0., 0., 0., 0., 0.],\n",
       "       [0., 0., 0., 0., 0., 0., 0., 0., 0., 0.],\n",
       "       [0., 0., 0., 0., 0., 0., 0., 0., 0., 0.],\n",
       "       [0., 0., 0., 0., 0., 0., 0., 0., 0., 0.],\n",
       "       [0., 0., 0., 0., 0., 0., 0., 0., 0., 0.]])"
      ]
     },
     "execution_count": 32,
     "metadata": {},
     "output_type": "execute_result"
    }
   ],
   "source": [
    "np.zeros_like(iden,dtype = np.float64) #If required to create a zeros matrix in the shape of another array use zeros_like"
   ]
  },
  {
   "cell_type": "code",
   "execution_count": 33,
   "metadata": {},
   "outputs": [
    {
     "data": {
      "text/plain": [
       "array([0, 1, 2, 3, 4, 5, 6, 7, 8, 9])"
      ]
     },
     "execution_count": 33,
     "metadata": {},
     "output_type": "execute_result"
    }
   ],
   "source": [
    "np.asarray(list(range(10))) #This creates a non array like input into an ndarray"
   ]
  },
  {
   "cell_type": "code",
   "execution_count": 34,
   "metadata": {},
   "outputs": [
    {
     "data": {
      "text/plain": [
       "array([0., 1., 2., 3., 4., 5., 6., 7., 8., 9.])"
      ]
     },
     "execution_count": 34,
     "metadata": {},
     "output_type": "execute_result"
    }
   ],
   "source": [
    "np.asarray(list(range(10)),dtype = np.float64) #Externally forcing the data type to float using the dtype argument"
   ]
  },
  {
   "cell_type": "code",
   "execution_count": 35,
   "metadata": {},
   "outputs": [
    {
     "data": {
      "text/plain": [
       "(4, 3)"
      ]
     },
     "execution_count": 35,
     "metadata": {},
     "output_type": "execute_result"
    }
   ],
   "source": [
    "np.asarray([[1,2,3],[4,5,6],[7,8,9],[10,11,12]]).shape #Using a list of list as input and checking the shape using shape object"
   ]
  },
  {
   "cell_type": "code",
   "execution_count": 36,
   "metadata": {},
   "outputs": [
    {
     "data": {
      "text/plain": [
       "3"
      ]
     },
     "execution_count": 36,
     "metadata": {},
     "output_type": "execute_result"
    }
   ],
   "source": [
    "np.asarray([((1,2,3),(4,5,6),(7,8,9)),((1,2,3),(4,5,6),(7,8,9))]).ndim #Using a list of tuple of tuple & checking dimension"
   ]
  },
  {
   "cell_type": "code",
   "execution_count": 37,
   "metadata": {},
   "outputs": [
    {
     "name": "stdout",
     "output_type": "stream",
     "text": [
      "Printing the Integer Array : [ 1  2  3  4  5  6  7  8  9 10]\n",
      "Printing the Floating Array : [ 1.  2.  3.  4.  5.  6.  7.  8.  9. 10.]\n"
     ]
    }
   ],
   "source": [
    "#Data Types in NumPy\n",
    "\n",
    "#Converting an array of one data type to another data type\n",
    "data1 = list(range(1,11))\n",
    "arr1 = np.array(data1)\n",
    "print(\"Printing the Integer Array :\",arr1)\n",
    "\n",
    "float_arr1 = arr1.astype(np.float64)\n",
    "print(\"Printing the Floating Array :\",float_arr1)"
   ]
  },
  {
   "cell_type": "code",
   "execution_count": 38,
   "metadata": {},
   "outputs": [
    {
     "name": "stdout",
     "output_type": "stream",
     "text": [
      "Printing the String Array : ['1.2' '1.5' '1.9' '2.4']\n",
      "\n",
      "\n",
      "Printing the Float array converted using data type of another array : [1.2 1.5 1.9 2.4]\n",
      "\n",
      "\n",
      "Printing an Int array converted using data type of another array : [1 1 1 2]\n",
      "\n",
      "\n"
     ]
    }
   ],
   "source": [
    "#Using Data type attributes of another array\n",
    "data2 = ['1.2','1.5','1.9','2.4']\n",
    "string_arr1 = np.array(data2)\n",
    "print(\"Printing the String Array :\",string_arr1)\n",
    "print(\"\\n\")\n",
    "\n",
    "#NOTE: A String array[looking like Floating numbers] can be directly converted to a Floating Array\n",
    "#but cannot be directly coverted to Integer\n",
    "float_arr2 = string_arr1.astype(float_arr1.dtype)\n",
    "print(\"Printing the Float array converted using data type of another array :\",float_arr2)\n",
    "print(\"\\n\")\n",
    "\n",
    "int_arr2 = float_arr2.astype(arr1.dtype)\n",
    "print(\"Printing an Int array converted using data type of another array :\",int_arr2)\n",
    "print(\"\\n\")"
   ]
  },
  {
   "cell_type": "code",
   "execution_count": 39,
   "metadata": {},
   "outputs": [
    {
     "data": {
      "text/plain": [
       "(10,)"
      ]
     },
     "execution_count": 39,
     "metadata": {},
     "output_type": "execute_result"
    }
   ],
   "source": [
    "#Just rechecking the shape of an array created using arange function. This is already discussed earlier\n",
    "np.arange(10).shape"
   ]
  },
  {
   "cell_type": "code",
   "execution_count": 40,
   "metadata": {},
   "outputs": [
    {
     "data": {
      "text/plain": [
       "array([[1, 2, 3],\n",
       "       [4, 5, 6]])"
      ]
     },
     "execution_count": 40,
     "metadata": {},
     "output_type": "execute_result"
    }
   ],
   "source": [
    "#Operations between Arrays and Scalars\n",
    "#Vectorization = Making an element wise operation without the need for a \"for Loop\"\n",
    "# Array operations are vectorised by default and wouldn't need any for loop and are very fast in executing\n",
    "arr3 = np.array([[1,2,3],[4 ,5,  6]])\n",
    "arr3"
   ]
  },
  {
   "cell_type": "code",
   "execution_count": 41,
   "metadata": {},
   "outputs": [
    {
     "data": {
      "text/plain": [
       "array([[ 1,  4,  9],\n",
       "       [16, 25, 36]])"
      ]
     },
     "execution_count": 41,
     "metadata": {},
     "output_type": "execute_result"
    }
   ],
   "source": [
    "#Product of an array with itself results in the square of the array\n",
    "# An operation between two arrays of similar size or between an Array & a scalar are performed element wise[AKA vectorised]\n",
    "arr3 * arr3"
   ]
  },
  {
   "cell_type": "code",
   "execution_count": 42,
   "metadata": {},
   "outputs": [
    {
     "data": {
      "text/plain": [
       "array([[ 2,  4,  6],\n",
       "       [ 8, 10, 12]])"
      ]
     },
     "execution_count": 42,
     "metadata": {},
     "output_type": "execute_result"
    }
   ],
   "source": [
    "#Product of an array with scalar results in the product of the array\n",
    "# An operation between two arrays of similar size or between an Array & a scalar are performed element wise[AKA vectorised]\n",
    "arr3 * 2"
   ]
  },
  {
   "cell_type": "code",
   "execution_count": 43,
   "metadata": {},
   "outputs": [
    {
     "data": {
      "text/plain": [
       "array([[    1,     4,    27],\n",
       "       [  256,  3125, 46656]], dtype=int32)"
      ]
     },
     "execution_count": 43,
     "metadata": {},
     "output_type": "execute_result"
    }
   ],
   "source": [
    "#Array raised to its own power would result in n**n for each element in the array. [again vectorised ] \n",
    "#e.g., In the above case the result would be - 1**1, 2**2, 3**3, 4**4, 5**5 and 6**6\n",
    "arr3 ** arr3"
   ]
  },
  {
   "cell_type": "code",
   "execution_count": 44,
   "metadata": {},
   "outputs": [],
   "source": [
    "#Operation between two differently sized arrays is called broadcasting. \n",
    "#Broadcasting would be discussed in Chap 12"
   ]
  },
  {
   "cell_type": "code",
   "execution_count": 45,
   "metadata": {},
   "outputs": [
    {
     "data": {
      "text/plain": [
       "array([0, 1, 2, 3, 4, 5, 6, 7, 8, 9])"
      ]
     },
     "execution_count": 45,
     "metadata": {},
     "output_type": "execute_result"
    }
   ],
   "source": [
    "arr4 = np.arange(10)\n",
    "arr4"
   ]
  },
  {
   "cell_type": "code",
   "execution_count": 46,
   "metadata": {},
   "outputs": [
    {
     "data": {
      "text/plain": [
       "array([4, 5, 6])"
      ]
     },
     "execution_count": 46,
     "metadata": {},
     "output_type": "execute_result"
    }
   ],
   "source": [
    "arr4_slice = arr4[4:7]\n",
    "arr4_slice"
   ]
  },
  {
   "cell_type": "code",
   "execution_count": 47,
   "metadata": {},
   "outputs": [
    {
     "name": "stdout",
     "output_type": "stream",
     "text": [
      "Before making a change to an array slice, the original array looked like this [0 1 2 3 4 5 6 7 8 9] .\n",
      "\n",
      "The number of dimension of the sliced 3D array is  1\n",
      "After making a change to an array slice, the original array looks like this [ 0  1  2  3 64 64 64  7  8  9]\n"
     ]
    }
   ],
   "source": [
    "#-------------------------\n",
    "#Array Slices are Views to the original Array. Any change to an Array slice would impact the original Array.\n",
    "#-------------------------\n",
    "\n",
    "#Updating an array slice here and this would result in the original array getting impacted\n",
    "\n",
    "print(\"Before making a change to an array slice, the original array looked like this\",arr4,\".\\n\")\n",
    "\n",
    "arr4_slice[:] = 64\n",
    "print(\"The number of dimension of the sliced 3D array is \",arr4_slice.ndim)\n",
    "print(\"After making a change to an array slice, the original array looks like this\",arr4)\n"
   ]
  },
  {
   "cell_type": "code",
   "execution_count": 48,
   "metadata": {},
   "outputs": [
    {
     "name": "stdout",
     "output_type": "stream",
     "text": [
      "Before making a change to a copied array slice, the original array looked like this ---> [ 0  1  2  3 64 64 64  7  8  9]\n",
      "Before making a change to a copied array slice, the copied array_slice looked like this ---> [64 64 64] \n",
      "\n",
      "After making a change to a copied array, the original array looks like this ---> [ 0  1  2  3 64 64 64  7  8  9]\n",
      "After making a change to a copied array, the copied array_slice looked like this ---> [128 128 128] \n",
      "\n"
     ]
    }
   ],
   "source": [
    "# IF you want to impact only the array and NOT the original array, then you may need to explicity do a copy\n",
    "arr4_slice_copy = arr4[4:7].copy()\n",
    "arr4_slice_copy\n",
    "\n",
    "# Now if we make any chnage to the slice, it would only impact the slice and NOT the original array\n",
    "print(\"Before making a change to a copied array slice, the original array looked like this --->\",arr4)\n",
    "print(\"Before making a change to a copied array slice, the copied array_slice looked like this --->\",arr4_slice_copy,\"\\n\")\n",
    "\n",
    "#Chnaging the values of arr4_slice_copy to 128\n",
    "#Note: The syntax for changing all the elements in one go is to use array_name[:]\n",
    "arr4_slice_copy[:] = 128\n",
    "\n",
    "print(\"After making a change to a copied array, the original array looks like this --->\",arr4)\n",
    "print(\"After making a change to a copied array, the copied array_slice looked like this --->\",arr4_slice_copy,\"\\n\")"
   ]
  },
  {
   "cell_type": "code",
   "execution_count": 49,
   "metadata": {
    "scrolled": true
   },
   "outputs": [
    {
     "name": "stdout",
     "output_type": "stream",
     "text": [
      "The sliced 2D array before edit is  [1 2 3]\n",
      "The number of dimension of the sliced 2D array is  1\n",
      "The original 2D array before edit is  [[1 2 3]\n",
      " [4 5 6]] \n",
      "\n",
      "Trying to print the value at the 0th index of a 2D array [1 2 3]\n",
      "Trying to print the value at 2nd position of the 0th index 3 \n",
      "\n",
      "The sliced 2D array after edit is  [12 12 12]\n",
      "The original 2D array after edit is  [[12 12 12]\n",
      " [ 4  5  6]] \n",
      "\n",
      "The sliced 3D array before edit is  [[1 2 3]\n",
      " [4 5 6]]\n",
      "The number of dimension of the sliced 3D array is  2\n",
      "The original 3D array before edit is  [[[ 1  2  3]\n",
      "  [ 4  5  6]]\n",
      "\n",
      " [[ 7  8  9]\n",
      "  [10 11 12]]] \n",
      "\n",
      "The sliced 3D array after edit is  [[12 12 12]\n",
      " [12 12 12]]\n",
      "The original 3D array after edit is  [[[12 12 12]\n",
      "  [12 12 12]]\n",
      "\n",
      " [[ 7  8  9]\n",
      "  [10 11 12]]] \n",
      "\n"
     ]
    }
   ],
   "source": [
    "#Indexing ans Slicing for Multi Dimensional Arrays\n",
    "#Note: The overall logic would still remain the same for 1D or nD arrays. \n",
    "\n",
    "#Creating a 2D array arr2d\n",
    "arr2d = np.array([[1,2,3],[4,5,6]])\n",
    "\n",
    "#Slicing the 2D array in a var\n",
    "#Note: We here slice the 2D array using the index number 0. This would result in a 1D array [1,2,3]\n",
    "arr2d_slice = arr2d[0]\n",
    "print(\"The sliced 2D array before edit is \",arr2d_slice)\n",
    "print(\"The number of dimension of the sliced 2D array is \",arr2d_slice.ndim)\n",
    "print(\"The original 2D array before edit is \",arr2d,\"\\n\")\n",
    "\n",
    "\n",
    "#Accessing the values through indexing\n",
    "print(\"Trying to print the value at the 0th index of a 2D array\",arr2d[0])\n",
    "print(\"Trying to print the value at 2nd position of the 0th index\",arr2d[0,2],\"\\n\")\n",
    "\n",
    "#Changing the values in the sliced 2D array.\n",
    "#Note: Since we didn't copy explicitly, any change to slice would change the original array\n",
    "arr2d_slice[:] = 12\n",
    "print(\"The sliced 2D array after edit is \",arr2d_slice)\n",
    "print(\"The original 2D array after edit is \",arr2d,\"\\n\")\n",
    "\n",
    "#Creating a 3D array arr3d\n",
    "arr3d = np.array([[[1,2,3],[4,5,6]],[[7,8,9],[10,11,12]]])\n",
    "\n",
    "#slicing the 3D array in a var\n",
    "#Note: We here slice the 3D array using the index number 0. This would result in a 2D array [[1,2,3],[4,5,6]]\n",
    "arr3d_slice = arr3d[0]\n",
    "print(\"The sliced 3D array before edit is \",arr3d_slice)\n",
    "print(\"The number of dimension of the sliced 3D array is \",arr3d_slice.ndim)\n",
    "print(\"The original 3D array before edit is \",arr3d,\"\\n\")\n",
    "\n",
    "#Chnaging the values in the sliced 3D array\n",
    "arr3d_slice[:] = 12 #This would replace all the elements of the sliced array with 12\n",
    "\n",
    "print(\"The sliced 3D array after edit is \",arr3d_slice)\n",
    "print(\"The original 3D array after edit is \",arr3d,\"\\n\")"
   ]
  },
  {
   "cell_type": "code",
   "execution_count": 50,
   "metadata": {},
   "outputs": [
    {
     "name": "stdout",
     "output_type": "stream",
     "text": [
      "The dimensions of the slice is 2\n",
      "The shape of the slice is (2, 2)\n",
      "The actual slice of the array is [[4 5]\n",
      " [7 8]]\n"
     ]
    }
   ],
   "source": [
    "#Passing multiple indexes using the : command\n",
    "#The : would be used in the similar manner python would work in other functions\n",
    "\n",
    "#Creating a 2D array\n",
    "arr2d = np.array([[1,2,3],[4,5,6],[7,8,9]])\n",
    "\n",
    "#Indexing using : - Here we are slicing the nested list at 1st and afterwards [1:]. Then within the sliced list, we are slicing till 2nd [excluding 2nd]\n",
    "x = arr2d[1:, :2]\n",
    "print(\"The dimensions of the slice is\",x.ndim)\n",
    "print(\"The shape of the slice is\",x.shape)\n",
    "print(\"The actual slice of the array is\",x)"
   ]
  },
  {
   "cell_type": "code",
   "execution_count": 51,
   "metadata": {},
   "outputs": [
    {
     "name": "stdout",
     "output_type": "stream",
     "text": [
      "[[0.61979222 0.04788526 0.84863465 0.04171261]\n",
      " [0.71330931 0.19124681 0.91403745 0.33441793]\n",
      " [0.37300866 0.98425061 0.61772204 0.88324613]\n",
      " [0.6409046  0.46865723 0.59996377 0.93719029]\n",
      " [0.53617501 0.59148002 0.87056374 0.92398212]\n",
      " [0.20557098 0.16444159 0.44040878 0.54995809]\n",
      " [0.17140163 0.93563619 0.62238583 0.39039613]] \n",
      "\n",
      "[ True False False  True False False False] \n",
      "\n",
      "1 - Dimension(s) of the boolean sliced array\n",
      "\n",
      "(2,) - Shape of the boolean sliced array\n",
      "\n",
      "[0.04171261 0.93719029] - boolean sliced array\n",
      "\n"
     ]
    }
   ],
   "source": [
    "#Feb 03 2023\n",
    "#Boolean Indexing\n",
    "\n",
    "#Creating a numpy array of names\n",
    "names = np.array(['Bob','Joe','Will','Bob','Will','Joe','Joe'])\n",
    "\n",
    "#Creating a random normally distributed array\n",
    "data = np.random.rand(7,4)\n",
    "print(data,\"\\n\")\n",
    "\n",
    "\n",
    "#Converting the names array into a Boolean array using the comparison operator ==\n",
    "#Note: Just like arithmetic operations, this also results in vectorisation [operation is performed on every element]\n",
    "names == 'Bob'\n",
    "print(names == 'Bob',\"\\n\")\n",
    "\n",
    "#Simple slicing the data array using Boolean array\n",
    "#Note: The names array has 7 elements, so the data array has to have 7 rows. \n",
    "#If this conition is not met, then it would result in error\n",
    "data[names == 'Bob']\n",
    "\n",
    "\n",
    "#slicing using indexing\n",
    "print(data[names == 'Bob',3].ndim,\"- Dimension(s) of the boolean sliced array\\n\")\n",
    "print(data[names == 'Bob',3].shape,\"- Shape of the boolean sliced array\\n\")\n",
    "print(data[names == 'Bob',3],\"- boolean sliced array\\n\")"
   ]
  },
  {
   "cell_type": "code",
   "execution_count": 52,
   "metadata": {},
   "outputs": [
    {
     "name": "stdout",
     "output_type": "stream",
     "text": [
      "(4,)\n",
      "(4,)\n",
      "(4,)\n",
      "(4,)\n",
      "(4,)\n",
      "(4,)\n",
      "(4,)\n"
     ]
    }
   ],
   "source": [
    "#Travelling thro' array using for loop would result in row wise operation\n",
    "for rows in data:\n",
    "    print(rows.shape)"
   ]
  },
  {
   "cell_type": "code",
   "execution_count": 53,
   "metadata": {
    "scrolled": true
   },
   "outputs": [
    {
     "name": "stdout",
     "output_type": "stream",
     "text": [
      "[ True  True False  True False  True  True]\n"
     ]
    },
    {
     "data": {
      "text/plain": [
       "array([[0.61979222, 0.04788526, 0.84863465, 0.04171261],\n",
       "       [0.71330931, 0.19124681, 0.91403745, 0.33441793],\n",
       "       [0.6409046 , 0.46865723, 0.59996377, 0.93719029],\n",
       "       [0.20557098, 0.16444159, 0.44040878, 0.54995809],\n",
       "       [0.17140163, 0.93563619, 0.62238583, 0.39039613]])"
      ]
     },
     "execution_count": 53,
     "metadata": {},
     "output_type": "execute_result"
    }
   ],
   "source": [
    "#combining multiple arithmentic operations using the names array\n",
    "print((names == 'Bob' )|(names == 'Joe'))\n",
    "data[(names == 'Bob' )|(names == 'Joe')]"
   ]
  },
  {
   "cell_type": "code",
   "execution_count": 54,
   "metadata": {},
   "outputs": [
    {
     "name": "stdout",
     "output_type": "stream",
     "text": [
      "[[0.71330931 0.19124681 0.91403745 0.33441793]\n",
      " [0.37300866 0.98425061 0.61772204 0.88324613]\n",
      " [0.53617501 0.59148002 0.87056374 0.92398212]\n",
      " [0.20557098 0.16444159 0.44040878 0.54995809]\n",
      " [0.17140163 0.93563619 0.62238583 0.39039613]] \n",
      "\n",
      "[[0.71330931 0.19124681 0.91403745 0.33441793]\n",
      " [0.37300866 0.98425061 0.61772204 0.88324613]\n",
      " [0.53617501 0.59148002 0.87056374 0.92398212]\n",
      " [0.20557098 0.16444159 0.44040878 0.54995809]\n",
      " [0.17140163 0.93563619 0.62238583 0.39039613]] \n",
      "\n"
     ]
    }
   ],
   "source": [
    "#We can negate a condition using either != or ~\n",
    "names != 'Bob'\n",
    "~(names == 'Bob')\n",
    "print(data[~(names == 'Bob')],\"\\n\")\n",
    "\n",
    "#assigning the negated array to a variable\n",
    "#Both the print statements would result in the same output\n",
    "x = ~(names == 'Bob')\n",
    "print(data[x],\"\\n\")"
   ]
  },
  {
   "cell_type": "code",
   "execution_count": 55,
   "metadata": {},
   "outputs": [
    {
     "name": "stdout",
     "output_type": "stream",
     "text": [
      "[[False  True False  True]\n",
      " [False  True False  True]\n",
      " [ True False False False]\n",
      " [False False False False]\n",
      " [False False False False]\n",
      " [ True  True  True False]\n",
      " [ True False False  True]]\n",
      "[[0.61979222 0.45       0.84863465 0.45      ]\n",
      " [0.71330931 0.45       0.91403745 0.45      ]\n",
      " [0.45       0.98425061 0.61772204 0.88324613]\n",
      " [0.6409046  0.46865723 0.59996377 0.93719029]\n",
      " [0.53617501 0.59148002 0.87056374 0.92398212]\n",
      " [0.45       0.45       0.45       0.54995809]\n",
      " [0.45       0.93563619 0.62238583 0.45      ]]\n"
     ]
    }
   ],
   "source": [
    "#Setting values of array elements using boolean conditions\n",
    "\n",
    "#Checking for a condition is a vectorised operation as we say earlier, operation is performed on the entire array\n",
    "data < 0.45\n",
    "print(data<0.45)\n",
    "\n",
    "#subsetting is also vectorised as we saw earlier\n",
    "data[data < 0.45]\n",
    "\n",
    "#assigning values using above is also vectorised\n",
    "data[data < 0.45] = 0.45\n",
    "print(data)"
   ]
  },
  {
   "cell_type": "code",
   "execution_count": 56,
   "metadata": {
    "scrolled": true
   },
   "outputs": [
    {
     "name": "stdout",
     "output_type": "stream",
     "text": [
      "The shape of the array is : (2, 2, 5) \n",
      "\n",
      "The dimensions of the array is : 3 \n",
      "\n"
     ]
    }
   ],
   "source": [
    "a = np.array([[[1,2,3,4,5],[6,7,8,9,10]],[[1,2,3,4,5],[6,7,8,9,10]]])\n",
    "print(\"The shape of the array is :\",a.shape,\"\\n\")\n",
    "print(\"The dimensions of the array is :\",a.ndim, \"\\n\")"
   ]
  },
  {
   "cell_type": "code",
   "execution_count": 105,
   "metadata": {},
   "outputs": [
    {
     "name": "stdout",
     "output_type": "stream",
     "text": [
      "\n",
      "[[0. 0. 0. 0.]\n",
      " [1. 1. 1. 1.]\n",
      " [2. 2. 2. 2.]\n",
      " [3. 3. 3. 3.]\n",
      " [4. 4. 4. 4.]\n",
      " [5. 5. 5. 5.]\n",
      " [6. 6. 6. 6.]\n",
      " [7. 7. 7. 7.]]\n"
     ]
    }
   ],
   "source": [
    "#Feb 05 2023: Fancy Indexing\n",
    "#In this section we can some fancy indexing\n",
    "arr_fancy = np.empty((8,4))\n",
    "arr_fancy.shape[0] #Will get the number of Rows\n",
    "arr_fancy.shape[1] #Will get the number of Columns\n",
    "\n",
    "for i in range(0,arr_fancy.shape[0]):\n",
    "    arr_fancy[i] = i #Here we are using the indexing to assign values to individual elements of the array\n",
    "print()\n",
    "print(arr_fancy)\n"
   ]
  },
  {
   "cell_type": "code",
   "execution_count": 106,
   "metadata": {},
   "outputs": [
    {
     "data": {
      "text/plain": [
       "array([[1., 1., 1., 1.],\n",
       "       [2., 2., 2., 2.],\n",
       "       [5., 5., 5., 5.],\n",
       "       [4., 4., 4., 4.],\n",
       "       [4., 4., 4., 4.]])"
      ]
     },
     "execution_count": 106,
     "metadata": {},
     "output_type": "execute_result"
    }
   ],
   "source": [
    "#To access the array in a specific order, provide the indexing in the order of choice\n",
    "#Note: Observe the extra square brackets that are used. If we ommit the extra square brackets, we may get a different output\n",
    "arr_fancy[[1,2,5,4]]"
   ]
  },
  {
   "cell_type": "code",
   "execution_count": 107,
   "metadata": {},
   "outputs": [
    {
     "data": {
      "text/plain": [
       "array([[4., 4., 4., 4.],\n",
       "       [1., 1., 1., 1.],\n",
       "       [2., 2., 2., 2.],\n",
       "       [5., 5., 5., 5.],\n",
       "       [4., 4., 4., 4.]])"
      ]
     },
     "execution_count": 107,
     "metadata": {},
     "output_type": "execute_result"
    }
   ],
   "source": [
    "#we can also write the array element twice to get a repititon as below\n",
    "arr_fancy[[4,1,2,5,4]]"
   ]
  },
  {
   "cell_type": "code",
   "execution_count": 108,
   "metadata": {
    "scrolled": true
   },
   "outputs": [
    {
     "data": {
      "text/plain": [
       "array([[7., 7., 7., 7.],\n",
       "       [6., 6., 6., 6.],\n",
       "       [3., 3., 3., 3.]])"
      ]
     },
     "execution_count": 108,
     "metadata": {},
     "output_type": "execute_result"
    }
   ],
   "source": [
    "#We can use combination of negative indexing as well as positive indexing in the same command\n",
    "arr_fancy[[-1,-2,3]]"
   ]
  },
  {
   "cell_type": "code",
   "execution_count": null,
   "metadata": {},
   "outputs": [],
   "source": []
  }
 ],
 "metadata": {
  "kernelspec": {
   "display_name": "Python 3",
   "language": "python",
   "name": "python3"
  },
  "language_info": {
   "codemirror_mode": {
    "name": "ipython",
    "version": 3
   },
   "file_extension": ".py",
   "mimetype": "text/x-python",
   "name": "python",
   "nbconvert_exporter": "python",
   "pygments_lexer": "ipython3",
   "version": "3.8.3"
  }
 },
 "nbformat": 4,
 "nbformat_minor": 4
}
